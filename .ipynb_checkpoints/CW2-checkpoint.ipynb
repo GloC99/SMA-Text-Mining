{
 "cells": [
  {
   "cell_type": "code",
   "execution_count": 9,
   "id": "af88d3f9",
   "metadata": {},
   "outputs": [],
   "source": [
    "import pandas as pd\n",
    "import tweepy\n",
    "import requests\n",
    "from access_token import tokens"
   ]
  },
  {
   "cell_type": "code",
   "execution_count": 10,
   "id": "a9049f1a",
   "metadata": {},
   "outputs": [],
   "source": [
    "client = tweepy.Client( bearer_token=tokens['bearer_token'], \n",
    "                        consumer_key=tokens['api_token'], \n",
    "                        consumer_secret=tokens['api_token_secret'], \n",
    "                        access_token=tokens['access_token'], \n",
    "                        access_token_secret=tokens['access_token_secret'], \n",
    "                        return_type = requests.Response,\n",
    "                        wait_on_rate_limit=True)"
   ]
  },
  {
   "cell_type": "code",
   "execution_count": 15,
   "id": "da208889",
   "metadata": {},
   "outputs": [],
   "source": [
    "start_time = \"2022-03-15T00:00:00Z\"\n",
    "end_time = \"2022-03-15T00:00:00Z\"\n",
    "query = \"#trump\"\n",
    "max_num_tweets = 100\n",
    "\n",
    "# tweets = client.search_all_tweets(query=query, start_time=start_time, end_time=end_time, max_results=max_num_tweets, tweet_fields=['context_annotations', 'created_at'])\n",
    "# tweets = client.search_recent_tweets(query=query, start_time=start_time, max_results=max_num_tweets)\n",
    "tweets = client.search_recent_tweets(query=query, max_results=max_num_tweets)\n",
    "\n",
    "tweets_dict = tweets.json() \n",
    "tweets_data = tweets_dict['data'] \n",
    "df = pd.json_normalize(tweets_data) "
   ]
  },
  {
   "cell_type": "code",
   "execution_count": 18,
   "id": "3ef5d1b8",
   "metadata": {},
   "outputs": [
    {
     "data": {
      "text/html": [
       "<div>\n",
       "<style scoped>\n",
       "    .dataframe tbody tr th:only-of-type {\n",
       "        vertical-align: middle;\n",
       "    }\n",
       "\n",
       "    .dataframe tbody tr th {\n",
       "        vertical-align: top;\n",
       "    }\n",
       "\n",
       "    .dataframe thead th {\n",
       "        text-align: right;\n",
       "    }\n",
       "</style>\n",
       "<table border=\"1\" class=\"dataframe\">\n",
       "  <thead>\n",
       "    <tr style=\"text-align: right;\">\n",
       "      <th></th>\n",
       "      <th>id</th>\n",
       "      <th>text</th>\n",
       "    </tr>\n",
       "  </thead>\n",
       "  <tbody>\n",
       "    <tr>\n",
       "      <th>0</th>\n",
       "      <td>1504572979023212549</td>\n",
       "      <td>RT @TrumpstersNFT: Trumpsters will live on the...</td>\n",
       "    </tr>\n",
       "    <tr>\n",
       "      <th>1</th>\n",
       "      <td>1504572963806486535</td>\n",
       "      <td>@BetteMidler #Zelensky is a natural born leade...</td>\n",
       "    </tr>\n",
       "    <tr>\n",
       "      <th>2</th>\n",
       "      <td>1504572891475550209</td>\n",
       "      <td>Ex- #RNC chairman blasts #Trump: 'Not fit to l...</td>\n",
       "    </tr>\n",
       "    <tr>\n",
       "      <th>3</th>\n",
       "      <td>1504572862644076552</td>\n",
       "      <td>The biggest #Hypocrite #Schwarzenegger @Schwar...</td>\n",
       "    </tr>\n",
       "    <tr>\n",
       "      <th>4</th>\n",
       "      <td>1504572814535364617</td>\n",
       "      <td>RT @Theboveed: Supreme Court Hears The Case Of...</td>\n",
       "    </tr>\n",
       "    <tr>\n",
       "      <th>...</th>\n",
       "      <td>...</td>\n",
       "      <td>...</td>\n",
       "    </tr>\n",
       "    <tr>\n",
       "      <th>95</th>\n",
       "      <td>1504569611202793473</td>\n",
       "      <td>RT @EelcoHoecke: #eenvandaag: \"#trump die vond...</td>\n",
       "    </tr>\n",
       "    <tr>\n",
       "      <th>96</th>\n",
       "      <td>1504569585713836039</td>\n",
       "      <td>The truth in political advertising: 'You're al...</td>\n",
       "    </tr>\n",
       "    <tr>\n",
       "      <th>97</th>\n",
       "      <td>1504569579116417026</td>\n",
       "      <td>@BFMTV 1 an au pouvoir et les démocrates améri...</td>\n",
       "    </tr>\n",
       "    <tr>\n",
       "      <th>98</th>\n",
       "      <td>1504569513525669902</td>\n",
       "      <td>45 Republicans Just Ganged Up On Biden  #MAGA ...</td>\n",
       "    </tr>\n",
       "    <tr>\n",
       "      <th>99</th>\n",
       "      <td>1504569450376273920</td>\n",
       "      <td>RT @buytrumpstuff: This \"TRUMP 2024 SAVE AMERI...</td>\n",
       "    </tr>\n",
       "  </tbody>\n",
       "</table>\n",
       "<p>100 rows × 2 columns</p>\n",
       "</div>"
      ],
      "text/plain": [
       "                     id                                               text\n",
       "0   1504572979023212549  RT @TrumpstersNFT: Trumpsters will live on the...\n",
       "1   1504572963806486535  @BetteMidler #Zelensky is a natural born leade...\n",
       "2   1504572891475550209  Ex- #RNC chairman blasts #Trump: 'Not fit to l...\n",
       "3   1504572862644076552  The biggest #Hypocrite #Schwarzenegger @Schwar...\n",
       "4   1504572814535364617  RT @Theboveed: Supreme Court Hears The Case Of...\n",
       "..                  ...                                                ...\n",
       "95  1504569611202793473  RT @EelcoHoecke: #eenvandaag: \"#trump die vond...\n",
       "96  1504569585713836039  The truth in political advertising: 'You're al...\n",
       "97  1504569579116417026  @BFMTV 1 an au pouvoir et les démocrates améri...\n",
       "98  1504569513525669902  45 Republicans Just Ganged Up On Biden  #MAGA ...\n",
       "99  1504569450376273920  RT @buytrumpstuff: This \"TRUMP 2024 SAVE AMERI...\n",
       "\n",
       "[100 rows x 2 columns]"
      ]
     },
     "execution_count": 18,
     "metadata": {},
     "output_type": "execute_result"
    }
   ],
   "source": [
    "df"
   ]
  },
  {
   "cell_type": "code",
   "execution_count": 19,
   "id": "54a10a3f",
   "metadata": {},
   "outputs": [],
   "source": [
    "df.to_csv(\"test.csv\")"
   ]
  }
 ],
 "metadata": {
  "kernelspec": {
   "display_name": "Python 3 (ipykernel)",
   "language": "python",
   "name": "python3"
  },
  "language_info": {
   "codemirror_mode": {
    "name": "ipython",
    "version": 3
   },
   "file_extension": ".py",
   "mimetype": "text/x-python",
   "name": "python",
   "nbconvert_exporter": "python",
   "pygments_lexer": "ipython3",
   "version": "3.8.10"
  }
 },
 "nbformat": 4,
 "nbformat_minor": 5
}
