{
 "cells": [
  {
   "cell_type": "code",
   "execution_count": 1,
   "id": "af88d3f9",
   "metadata": {},
   "outputs": [],
   "source": [
    "import pandas as pd\n",
    "import tweepy\n",
    "import requests\n",
    "import re\n",
    "import emoji\n",
    "from access_token import tokens"
   ]
  },
  {
   "cell_type": "code",
   "execution_count": 2,
   "id": "0f78b093",
   "metadata": {},
   "outputs": [],
   "source": [
    "auth = tweepy.OAuthHandler(tokens['api_token'], tokens['api_token_secret'])\n",
    "auth.set_access_token(tokens['access_token'], tokens['access_token_secret'])\n",
    "api = tweepy.API(auth, wait_on_rate_limit=True)"
   ]
  },
  {
   "cell_type": "code",
   "execution_count": 3,
   "id": "6ac7cb6b",
   "metadata": {},
   "outputs": [],
   "source": [
    "emoji_pattern = re.compile(\"[\"\n",
    "        u\"\\U0001F600-\\U0001F64F\"  # emoticons\n",
    "        u\"\\U0001F300-\\U0001F5FF\"  # symbols & pictographs\n",
    "        u\"\\U0001F680-\\U0001F6FF\"  # transport & map symbols\n",
    "        u\"\\U0001F1E0-\\U0001F1FF\"  # flags (iOS)\n",
    "                           \"]+\", flags=re.UNICODE)\n",
    "# print(emoji_pattern.sub(r'', text)) # no emoji"
   ]
  },
  {
   "cell_type": "code",
   "execution_count": 4,
   "id": "5bf8e760",
   "metadata": {},
   "outputs": [],
   "source": [
    "# Collect tweets\n",
    "query = \"#trump\" + \" -filter:retweets\"\n",
    "cutoff_date = \"2022-03-19\"\n",
    "tweets = tweepy.Cursor(api.search_tweets, q=query, lang=\"en\", until=cutoff_date).items(200)\n",
    "\n",
    "tweets_list = [[tweet.created_at, tweet.user.screen_name, tweet.user.location, tweet.text] for tweet in tweets]\n",
    "\n",
    "tweets_df = pd.DataFrame(data=tweets_list, columns=['date', 'user', 'location', 'text'])"
   ]
  },
  {
   "cell_type": "code",
   "execution_count": 5,
   "id": "76d605bf",
   "metadata": {},
   "outputs": [
    {
     "data": {
      "text/html": [
       "<div>\n",
       "<style scoped>\n",
       "    .dataframe tbody tr th:only-of-type {\n",
       "        vertical-align: middle;\n",
       "    }\n",
       "\n",
       "    .dataframe tbody tr th {\n",
       "        vertical-align: top;\n",
       "    }\n",
       "\n",
       "    .dataframe thead th {\n",
       "        text-align: right;\n",
       "    }\n",
       "</style>\n",
       "<table border=\"1\" class=\"dataframe\">\n",
       "  <thead>\n",
       "    <tr style=\"text-align: right;\">\n",
       "      <th></th>\n",
       "      <th>date</th>\n",
       "      <th>user</th>\n",
       "      <th>location</th>\n",
       "      <th>text</th>\n",
       "    </tr>\n",
       "  </thead>\n",
       "  <tbody>\n",
       "    <tr>\n",
       "      <th>0</th>\n",
       "      <td>2022-03-18 23:59:04+00:00</td>\n",
       "      <td>sosajoejr559</td>\n",
       "      <td>Hanford CA</td>\n",
       "      <td>45th President Donald J. Trump to Hold a Rally...</td>\n",
       "    </tr>\n",
       "    <tr>\n",
       "      <th>1</th>\n",
       "      <td>2022-03-18 23:59:01+00:00</td>\n",
       "      <td>W_Mead_</td>\n",
       "      <td></td>\n",
       "      <td>@MarshaBlackburn #trump and the @GOP already t...</td>\n",
       "    </tr>\n",
       "    <tr>\n",
       "      <th>2</th>\n",
       "      <td>2022-03-18 23:58:57+00:00</td>\n",
       "      <td>LegalLining</td>\n",
       "      <td>The Big Apple</td>\n",
       "      <td>Russia prepared Trump to be Putin's Puppet for...</td>\n",
       "    </tr>\n",
       "    <tr>\n",
       "      <th>3</th>\n",
       "      <td>2022-03-18 23:58:33+00:00</td>\n",
       "      <td>RedCacheONLY</td>\n",
       "      <td></td>\n",
       "      <td>Alex Jones on why Full Send Podcast Trump Inte...</td>\n",
       "    </tr>\n",
       "    <tr>\n",
       "      <th>4</th>\n",
       "      <td>2022-03-18 23:58:00+00:00</td>\n",
       "      <td>Theboveed</td>\n",
       "      <td></td>\n",
       "      <td>Donald Trump wants his supporters to carry Tru...</td>\n",
       "    </tr>\n",
       "    <tr>\n",
       "      <th>...</th>\n",
       "      <td>...</td>\n",
       "      <td>...</td>\n",
       "      <td>...</td>\n",
       "      <td>...</td>\n",
       "    </tr>\n",
       "    <tr>\n",
       "      <th>195</th>\n",
       "      <td>2022-03-18 23:01:29+00:00</td>\n",
       "      <td>DorothyBeach</td>\n",
       "      <td>Ohio, USA</td>\n",
       "      <td>@JudiciaryDems An honor that was not given to ...</td>\n",
       "    </tr>\n",
       "    <tr>\n",
       "      <th>196</th>\n",
       "      <td>2022-03-18 23:00:46+00:00</td>\n",
       "      <td>randomtrump1</td>\n",
       "      <td></td>\n",
       "      <td>Random Trump https://t.co/wIrKt8Vmsq - #random...</td>\n",
       "    </tr>\n",
       "    <tr>\n",
       "      <th>197</th>\n",
       "      <td>2022-03-18 23:00:34+00:00</td>\n",
       "      <td>cozharz</td>\n",
       "      <td>Troy</td>\n",
       "      <td>This #atheist murderous KGB #dictator quoted #...</td>\n",
       "    </tr>\n",
       "    <tr>\n",
       "      <th>198</th>\n",
       "      <td>2022-03-18 23:00:07+00:00</td>\n",
       "      <td>DemActionToday</td>\n",
       "      <td></td>\n",
       "      <td>@mazemoore #PutinsPuppet https://t.co/QNNLLMpQ...</td>\n",
       "    </tr>\n",
       "    <tr>\n",
       "      <th>199</th>\n",
       "      <td>2022-03-18 23:00:00+00:00</td>\n",
       "      <td>c_baschan</td>\n",
       "      <td></td>\n",
       "      <td>Critical Race Theory explained by John Oliver ...</td>\n",
       "    </tr>\n",
       "  </tbody>\n",
       "</table>\n",
       "<p>200 rows × 4 columns</p>\n",
       "</div>"
      ],
      "text/plain": [
       "                         date            user       location  \\\n",
       "0   2022-03-18 23:59:04+00:00    sosajoejr559     Hanford CA   \n",
       "1   2022-03-18 23:59:01+00:00         W_Mead_                  \n",
       "2   2022-03-18 23:58:57+00:00     LegalLining  The Big Apple   \n",
       "3   2022-03-18 23:58:33+00:00    RedCacheONLY                  \n",
       "4   2022-03-18 23:58:00+00:00       Theboveed                  \n",
       "..                        ...             ...            ...   \n",
       "195 2022-03-18 23:01:29+00:00    DorothyBeach      Ohio, USA   \n",
       "196 2022-03-18 23:00:46+00:00    randomtrump1                  \n",
       "197 2022-03-18 23:00:34+00:00         cozharz           Troy   \n",
       "198 2022-03-18 23:00:07+00:00  DemActionToday                  \n",
       "199 2022-03-18 23:00:00+00:00       c_baschan                  \n",
       "\n",
       "                                                  text  \n",
       "0    45th President Donald J. Trump to Hold a Rally...  \n",
       "1    @MarshaBlackburn #trump and the @GOP already t...  \n",
       "2    Russia prepared Trump to be Putin's Puppet for...  \n",
       "3    Alex Jones on why Full Send Podcast Trump Inte...  \n",
       "4    Donald Trump wants his supporters to carry Tru...  \n",
       "..                                                 ...  \n",
       "195  @JudiciaryDems An honor that was not given to ...  \n",
       "196  Random Trump https://t.co/wIrKt8Vmsq - #random...  \n",
       "197  This #atheist murderous KGB #dictator quoted #...  \n",
       "198  @mazemoore #PutinsPuppet https://t.co/QNNLLMpQ...  \n",
       "199  Critical Race Theory explained by John Oliver ...  \n",
       "\n",
       "[200 rows x 4 columns]"
      ]
     },
     "execution_count": 5,
     "metadata": {},
     "output_type": "execute_result"
    }
   ],
   "source": [
    "tweets_df"
   ]
  },
  {
   "cell_type": "code",
   "execution_count": 6,
   "id": "722a2d1b",
   "metadata": {},
   "outputs": [],
   "source": [
    "tweets_df.to_csv ('test.csv', quotechar='\"', encoding='utf8', index = False, header=True)"
   ]
  },
  {
   "cell_type": "markdown",
   "id": "ed5d2c75",
   "metadata": {},
   "source": [
    "# Data Cleaning"
   ]
  },
  {
   "cell_type": "code",
   "execution_count": 9,
   "id": "f021c47a",
   "metadata": {},
   "outputs": [
    {
     "data": {
      "text/plain": [
       "0      45th president donald j  trump to hold a rally...\n",
       "1      @marshablackburn #trump and the @gop already t...\n",
       "2      russia prepared trump to be putin's puppet for...\n",
       "3      alex jones on why full send podcast trump inte...\n",
       "4      donald trump wants his supporters to carry tru...\n",
       "                             ...                        \n",
       "195    @judiciarydems an honor that was not given to ...\n",
       "196    random trump https://t co/wirkt8vmsq - #random...\n",
       "197    this #atheist murderous kgb #dictator quoted #...\n",
       "198    @mazemoore #putinspuppet https://t co/qnnllmpq...\n",
       "199    critical race theory explained by john oliver ...\n",
       "Name: text, Length: 200, dtype: object"
      ]
     },
     "execution_count": 9,
     "metadata": {},
     "output_type": "execute_result"
    }
   ],
   "source": [
    "# # Uncomment the line below if loading from previously saved CSV\n",
    "# tweets_df = pd.read_csv('test.csv', quotechar='\"', encoding='utf8')\n",
    "\n",
    "# Remove punctuation\n",
    "tweets_df['text'] = tweets_df['text'].map(lambda x: re.sub('[,\\\\.!?]', ' ', x))\n",
    "\n",
    "# Remove unnecessary line breaks\n",
    "tweets_df['text'] = tweets_df['text'].map(lambda x: re.sub(r\"\\n\", '', x))\n",
    "\n",
    "# Convert the titles to lowercase\n",
    "tweets_df['text'] = tweets_df['text'].map(lambda x: x.lower())\n",
    "\n",
    "# Remove emojis\n",
    "tweets_df['text'] = tweets_df['text'].map(lambda x: emoji.demojize(x))\n",
    "\n",
    "# # Print out the first rows \n",
    "# tweets_df['text']"
   ]
  },
  {
   "cell_type": "code",
   "execution_count": 10,
   "id": "f03e8c36",
   "metadata": {},
   "outputs": [],
   "source": [
    "# # Removing duplicate tweets?\n",
    "# unique_tweets = list(set(list(tweets_df['text_processed'].values)))\n",
    "# unique_tweets = [t for t in unique_tweets if t]\n",
    "\n",
    "# print(unique_tweets)"
   ]
  },
  {
   "cell_type": "code",
   "execution_count": 11,
   "id": "9b2dd798",
   "metadata": {},
   "outputs": [],
   "source": [
    "tweets_df.to_csv ('test_emoji_removed.csv', quotechar='\"', encoding='utf8', index = False, header=True)"
   ]
  }
 ],
 "metadata": {
  "kernelspec": {
   "display_name": "Python 3 (ipykernel)",
   "language": "python",
   "name": "python3"
  },
  "language_info": {
   "codemirror_mode": {
    "name": "ipython",
    "version": 3
   },
   "file_extension": ".py",
   "mimetype": "text/x-python",
   "name": "python",
   "nbconvert_exporter": "python",
   "pygments_lexer": "ipython3",
   "version": "3.8.10"
  }
 },
 "nbformat": 4,
 "nbformat_minor": 5
}
