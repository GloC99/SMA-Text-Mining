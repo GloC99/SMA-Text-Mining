{
 "cells": [
  {
   "cell_type": "code",
   "execution_count": 9,
   "id": "af88d3f9",
   "metadata": {},
   "outputs": [],
   "source": [
    "import pandas as pd\n",
    "import tweepy\n",
    "import requests\n",
    "from access_token import tokens"
   ]
  },
  {
   "cell_type": "code",
   "execution_count": 10,
   "id": "a9049f1a",
   "metadata": {},
   "outputs": [],
   "source": [
    "client = tweepy.Client( bearer_token=tokens['bearer_token'], \n",
    "                        consumer_key=tokens['api_token'], \n",
    "                        consumer_secret=tokens['api_token_secret'], \n",
    "                        access_token=tokens['access_token'], \n",
    "                        access_token_secret=tokens['access_token_secret'], \n",
    "                        return_type = requests.Response,\n",
    "                        wait_on_rate_limit=True)"
   ]
  },
  {
   "cell_type": "code",
   "execution_count": 22,
   "id": "da208889",
   "metadata": {},
   "outputs": [],
   "source": [
    "start_time = \"2022-03-15T00:00:00Z\"\n",
    "end_time = \"2022-03-15T00:00:00Z\"\n",
    "query = \"#trump\"\n",
    "max_num_tweets = 100\n",
    "\n",
    "# tweets = client.search_all_tweets(query=query, start_time=start_time, end_time=end_time, max_results=max_num_tweets, tweet_fields=['context_annotations', 'created_at'])\n",
    "# tweets = client.search_recent_tweets(query=query, start_time=start_time, max_results=max_num_tweets)\n",
    "tweets = client.search_recent_tweets(query=query, max_results=max_num_tweets)\n",
    "\n",
    "tweets_dict = tweets.json() \n",
    "tweets_data = tweets_dict['data'] \n",
    "df = pd.json_normalize(tweets_data) "
   ]
  },
  {
   "cell_type": "code",
   "execution_count": 23,
   "id": "76d605bf",
   "metadata": {},
   "outputs": [
    {
     "data": {
      "text/html": [
       "<div>\n",
       "<style scoped>\n",
       "    .dataframe tbody tr th:only-of-type {\n",
       "        vertical-align: middle;\n",
       "    }\n",
       "\n",
       "    .dataframe tbody tr th {\n",
       "        vertical-align: top;\n",
       "    }\n",
       "\n",
       "    .dataframe thead th {\n",
       "        text-align: right;\n",
       "    }\n",
       "</style>\n",
       "<table border=\"1\" class=\"dataframe\">\n",
       "  <thead>\n",
       "    <tr style=\"text-align: right;\">\n",
       "      <th></th>\n",
       "      <th>id</th>\n",
       "      <th>text</th>\n",
       "    </tr>\n",
       "  </thead>\n",
       "  <tbody>\n",
       "    <tr>\n",
       "      <th>0</th>\n",
       "      <td>1504573641379487745</td>\n",
       "      <td>RT @EelcoHoecke: #eenvandaag: \"#trump die vond...</td>\n",
       "    </tr>\n",
       "    <tr>\n",
       "      <th>1</th>\n",
       "      <td>1504573568654344192</td>\n",
       "      <td>Via @RawStory: Madison Cawthorn's rant calling...</td>\n",
       "    </tr>\n",
       "    <tr>\n",
       "      <th>2</th>\n",
       "      <td>1504573561901445122</td>\n",
       "      <td>RT @thejoshuablog: Via @crooksandliars: Bannon...</td>\n",
       "    </tr>\n",
       "    <tr>\n",
       "      <th>3</th>\n",
       "      <td>1504573561847091215</td>\n",
       "      <td>Funny--DOJ can look into #HunterBiden but not ...</td>\n",
       "    </tr>\n",
       "    <tr>\n",
       "      <th>4</th>\n",
       "      <td>1504573501482672137</td>\n",
       "      <td>Random Trump https://t.co/2JoViG0g4V - #random...</td>\n",
       "    </tr>\n",
       "    <tr>\n",
       "      <th>...</th>\n",
       "      <td>...</td>\n",
       "      <td>...</td>\n",
       "    </tr>\n",
       "    <tr>\n",
       "      <th>95</th>\n",
       "      <td>1504570070613254156</td>\n",
       "      <td>RT @thejoshuablog: Via @NewsCorpse: TRUMP: Me ...</td>\n",
       "    </tr>\n",
       "    <tr>\n",
       "      <th>96</th>\n",
       "      <td>1504570069682204680</td>\n",
       "      <td>RT @morenany_1: Ya lo había mencionado #Trump ...</td>\n",
       "    </tr>\n",
       "    <tr>\n",
       "      <th>97</th>\n",
       "      <td>1504570056398749696</td>\n",
       "      <td>RT @Repelsteeltje21: #Draad🧵 over de VS-media ...</td>\n",
       "    </tr>\n",
       "    <tr>\n",
       "      <th>98</th>\n",
       "      <td>1504570050946154499</td>\n",
       "      <td>RT @cyril_ip: New research published in an Oxf...</td>\n",
       "    </tr>\n",
       "    <tr>\n",
       "      <th>99</th>\n",
       "      <td>1504570023905476609</td>\n",
       "      <td>RT @EelcoHoecke: #eenvandaag: \"#trump die vond...</td>\n",
       "    </tr>\n",
       "  </tbody>\n",
       "</table>\n",
       "<p>100 rows × 2 columns</p>\n",
       "</div>"
      ],
      "text/plain": [
       "                     id                                               text\n",
       "0   1504573641379487745  RT @EelcoHoecke: #eenvandaag: \"#trump die vond...\n",
       "1   1504573568654344192  Via @RawStory: Madison Cawthorn's rant calling...\n",
       "2   1504573561901445122  RT @thejoshuablog: Via @crooksandliars: Bannon...\n",
       "3   1504573561847091215  Funny--DOJ can look into #HunterBiden but not ...\n",
       "4   1504573501482672137  Random Trump https://t.co/2JoViG0g4V - #random...\n",
       "..                  ...                                                ...\n",
       "95  1504570070613254156  RT @thejoshuablog: Via @NewsCorpse: TRUMP: Me ...\n",
       "96  1504570069682204680  RT @morenany_1: Ya lo había mencionado #Trump ...\n",
       "97  1504570056398749696  RT @Repelsteeltje21: #Draad🧵 over de VS-media ...\n",
       "98  1504570050946154499  RT @cyril_ip: New research published in an Oxf...\n",
       "99  1504570023905476609  RT @EelcoHoecke: #eenvandaag: \"#trump die vond...\n",
       "\n",
       "[100 rows x 2 columns]"
      ]
     },
     "execution_count": 23,
     "metadata": {},
     "output_type": "execute_result"
    }
   ],
   "source": [
    "df"
   ]
  },
  {
   "cell_type": "code",
   "execution_count": 24,
   "id": "722a2d1b",
   "metadata": {},
   "outputs": [],
   "source": [
    "df.to_csv(\"test.csv\", quotechar='\"', encoding='utf8', index = False, header=True)"
   ]
  }
 ],
 "metadata": {
  "kernelspec": {
   "display_name": "Python 3 (ipykernel)",
   "language": "python",
   "name": "python3"
  },
  "language_info": {
   "codemirror_mode": {
    "name": "ipython",
    "version": 3
   },
   "file_extension": ".py",
   "mimetype": "text/x-python",
   "name": "python",
   "nbconvert_exporter": "python",
   "pygments_lexer": "ipython3",
   "version": "3.8.10"
  }
 },
 "nbformat": 4,
 "nbformat_minor": 5
}
